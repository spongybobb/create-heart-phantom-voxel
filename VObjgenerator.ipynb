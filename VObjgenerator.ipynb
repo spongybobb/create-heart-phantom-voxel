{
 "cells": [
  {
   "cell_type": "code",
   "execution_count": 16,
   "metadata": {},
   "outputs": [],
   "source": [
    "#=================================================================\n",
    "#makesphericalvoxelphantom python 0.5\n",
    "#This code is the python version of VObjgenerator.m\n",
    "#Author: Hongzhang(Tommy) Chen\n",
    "#Imperial College London\n",
    "#================================================================="
   ]
  },
  {
   "cell_type": "code",
   "execution_count": 16,
   "metadata": {},
   "outputs": [],
   "source": [
    "#Function to make and show a spherical phantom containing\n",
    "#4 nested spheres. The \"p\" argument will be a structure holding \n",
    "#tissue parameters\n",
    "\n",
    "import numpy as np\n",
    "import h5py\n",
    "from ai import cs \n",
    "from dataclasses import dataclass\n",
    "\n",
    "@dataclass\n",
    "class VObj:\n",
    "    Gyro: float = 2675.0\n",
    "    Name: str = 'VObj_Custom'\n",
    "    Type: str = 'muscle'\n",
    "    TypeNum: int = 1\n",
    "    XDim: int = 64\n",
    "    XDimRes: float = 0.002\n",
    "    YDim: int = 64\n",
    "    YDimRes: float = 0.002\n",
    "    ZDim: int = 64\n",
    "    ZDimRes: float = 0.002    \n",
    "\n",
    "def VObjgenerator(p):\n",
    "    \n",
    "    # create a meshgrid \n",
    "    #x = np.arange(0,64,1)\n",
    "    #y = np.arange(0,64,1)\n",
    "    #z = np.arange(0,64,1)\n",
    "    \n",
    "    nx, ny, nz= (64, 64, 64)\n",
    "    xx = np.linspace(0, 1, nx)\n",
    "    yy = np.linspace(0, 1, ny)\n",
    "    zz = np.linspace(0, 1, nz)\n",
    "\n",
    "    x,y,z= np.meshgrid(xx,yy,zz)\n",
    "    #===========================================================\n",
    "    #create spheres\n",
    "    #sphere 1 the big\n",
    "    r1 = 0.47\n",
    "    x1 = 0.5\n",
    "    y1 = 0.5\n",
    "    z1 = 0.5\n",
    "\n",
    "    r, theta, phi = cs.cart2sp(x-x1, y-y1, z-z1) #convert cart to spherical\n",
    "\n",
    "    Vsph1 = r<r1 \n",
    "\n",
    "    #sphere 2\n",
    "    r2 = 0.15\n",
    "    x2 = 0.35\n",
    "    y2 = 0.35\n",
    "    z2 = 0.35\n",
    "\n",
    "    r, theta, phi = cs.cart2sp(x-x2, y-y2, z-z2) #convert cart to spherical\n",
    "\n",
    "    Vsph2 = r<r2 \n",
    "\n",
    "    #sphere 3\n",
    "    r3 = 0.15\n",
    "    x3 = 0.35\n",
    "    y3 = 0.65\n",
    "    z3 = 0.65\n",
    "\n",
    "    r, theta, phi = cs.cart2sp(x-x3, y-y3, z-z3) #convert cart to spherical\n",
    "\n",
    "    Vsph3 = r<r3 \n",
    "\n",
    "    #sphere 4\n",
    "    r4 = 0.15\n",
    "    x4 = 0.65\n",
    "    y4 = 0.35\n",
    "    z4 = 0.65\n",
    "\n",
    "    r, theta, phi = cs.cart2sp(x-x4, y-y4, z-z4) #convert cart to spherical\n",
    "\n",
    "    Vsph4 = r<r4 \n",
    "\n",
    "    #sphere 5\n",
    "    r5 = 0.13\n",
    "    x5 = 0.65\n",
    "    y5 = 0.35\n",
    "    z5 = 0.28\n",
    "\n",
    "    r, theta, phi = cs.cart2sp(x-x5, y-y5, z-z5) #convert cart to spherical\n",
    "\n",
    "    Vsph5 = r<r5     \n",
    "    #==========================================================================\n",
    "    #label each sphere\n",
    "    #labels will be used to assign tissue properties\n",
    "    # Note that we have to handle the exterior\n",
    "    # of the small spheres which lie inside \n",
    "    # sphere 1 separately; outside sphere 1 must\n",
    "    # have the label of 0.\n",
    "\n",
    "    V1 = np.logical_xor(Vsph1,Vsph2)\n",
    "    V1 = np.logical_xor(V1,Vsph3)\n",
    "    V1 = np.logical_xor(V1,Vsph4)\n",
    "    #Now, assign label 1 to be the exterior of \n",
    "    #the small spheres that lie in the big spheres.\n",
    "    Vsph1 = np.logical_xor(V1,Vsph5)\n",
    "\n",
    "    #assign tissue properties\n",
    " \n",
    "    T1 = (p['muscle']['t1'])*Vsph1+(p['skin']['t1'])*Vsph2+(p['skin']['t1'])*Vsph3+(p['contissue']['t1'])*Vsph4+(p['muscle']['t1'])*Vsph5;\n",
    "    T2 = (p['muscle']['t2'])*Vsph1+(p['skin']['t2'])*Vsph2+(p['skin']['t2'])*Vsph3+(p['contissue']['t2'])*Vsph4+(p['muscle']['t2'])*Vsph5;\n",
    "    T2star = (p['muscle']['t2star'])*Vsph1+(p['skin']['t2star'])*Vsph2+(p['skin']['t2star'])*Vsph3+(p['contissue']['t2star'])*Vsph4+(p['muscle']['t2star'])*Vsph5;\n",
    "    Rho = (p['muscle']['rho'])*Vsph1+(p['skin']['rho'])*Vsph2+(p['skin']['rho'])*Vsph3+(p['contissue']['rho'])*Vsph4+(p['muscle']['rho'])*Vsph5;\n",
    "    MassDen = (p['muscle']['mdensity'])*Vsph1+(p['skin']['mdensity'])*Vsph2+(p['skin']['mdensity'])*Vsph3+(p['contissue']['mdensity'])*Vsph4+(p['muscle']['mdensity'])*Vsph5;\n",
    "    \n",
    "    #save the data to hdf5\n",
    "    \n",
    "    with h5py.File('VObj.h5', 'w')as hf:\n",
    "        #add tissue properties arrays\n",
    "        hf.create_dataset('T1', data=T1)\n",
    "        hf.create_dataset('T2', data=T2)\n",
    "        hf.create_dataset('T2star', data=T2star)\n",
    "        hf.create_dataset('Rho', data=Rho)    \n",
    "        hf.create_dataset('MassDen', data=MassDen)\n",
    "        \n",
    "        #add VObj parameters\n",
    "        hf.create_dataset('Gyro', data=VObj.Gyro)\n",
    "        hf.create_dataset('Name', data=VObj.Name)\n",
    "        hf.create_dataset('Type', data=VObj.Type)\n",
    "        hf.create_dataset('TypeNum', data=VObj.TypeNum)    \n",
    "        hf.create_dataset('XDim', data=VObj.XDim)\n",
    "        hf.create_dataset('YDim', data=VObj.YDim)\n",
    "        hf.create_dataset('ZDim', data=VObj.ZDim)\n",
    "        hf.create_dataset('XDimRes', data=VObj.XDimRes)\n",
    "        hf.create_dataset('YDimRes', data=VObj.YDimRes)\n",
    "        hf.create_dataset('ZDimRes', data=VObj.ZDimRes)        \n",
    "\n",
    "    hf.close();\n",
    "    "
   ]
  },
  {
   "cell_type": "code",
   "execution_count": 17,
   "metadata": {},
   "outputs": [],
   "source": [
    "# tissueinfo as a nested dictionary \n",
    "# p contains the properties for different types of tissue\n",
    "# they will be called to assign to the vitural object later\n",
    "# note: the parameters are taken from Phantom Parameter Table.xlsx from MRiLab\n",
    "\n",
    "p = { 'muscle': {'t1': 1.1, 't2': 0.035, 't2star': 0.0175, 'rho': 0.7, 'mdensity': 1090}, \n",
    "      'skin': {'t1': 0.3, 't2': 0.03, 't2star': 0.015, 'rho': 0.6, 'mdensity': 1908},\n",
    "      'contissue':{'t1': 1, 't2': 0.042, 't2star': 0.021, 'rho': 0.75, 'mdensity': 1027}} \n",
    "\n",
    "#call function \n",
    "\n",
    "VObjgenerator(p);\n"
   ]
  },
  {
   "cell_type": "code",
   "execution_count": 18,
   "metadata": {},
   "outputs": [
    {
     "name": "stdout",
     "output_type": "stream",
     "text": [
      "['Gyro', 'MassDen', 'Name', 'Rho', 'T1', 'T2', 'T2star', 'Type', 'TypeNum', 'XDim', 'XDimRes', 'YDim', 'YDimRes', 'ZDim', 'ZDimRes']\n"
     ]
    }
   ],
   "source": [
    "#check if all parameters are in the h5 file\n",
    "f = h5py.File('VObj.h5', 'r')\n",
    "print(list(f.keys()))\n",
    "\n"
   ]
  },
  {
   "cell_type": "code",
   "execution_count": 19,
   "metadata": {},
   "outputs": [
    {
     "data": {
      "text/plain": [
       "(64, 64, 64)"
      ]
     },
     "execution_count": 19,
     "metadata": {},
     "output_type": "execute_result"
    }
   ],
   "source": [
    "f['Rho'].shape"
   ]
  },
  {
   "cell_type": "code",
   "execution_count": 20,
   "metadata": {},
   "outputs": [],
   "source": [
    "f.close();"
   ]
  },
  {
   "cell_type": "code",
   "execution_count": null,
   "metadata": {},
   "outputs": [],
   "source": []
  }
 ],
 "metadata": {
  "kernelspec": {
   "display_name": "Python 3",
   "language": "python",
   "name": "python3"
  },
  "language_info": {
   "codemirror_mode": {
    "name": "ipython",
    "version": 3
   },
   "file_extension": ".py",
   "mimetype": "text/x-python",
   "name": "python",
   "nbconvert_exporter": "python",
   "pygments_lexer": "ipython3",
   "version": "3.7.3"
  }
 },
 "nbformat": 4,
 "nbformat_minor": 2
}
